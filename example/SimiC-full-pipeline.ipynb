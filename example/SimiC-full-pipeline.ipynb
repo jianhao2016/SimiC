{
 "cells": [
  {
   "cell_type": "markdown",
   "metadata": {},
   "source": [
    "# Step 1: Load data into dataframe"
   ]
  },
  {
   "cell_type": "code",
   "execution_count": 1,
   "metadata": {},
   "outputs": [],
   "source": [
    "from simiclasso.clus_regression import simicLASSO_op\n",
    "from simiclasso.weighted_AUC_mat import main_fn\n",
    "import time\n",
    "# \n",
    "p2df = 'test_data/test_data.pickle'\n",
    "p2assignment = 'test_data/test_assignment.txt'\n",
    "k_cluster = 3\n",
    "similarity = True\n",
    "p2tf = 'test_data/mouse_TF.pickle'\n",
    "p2saved_file = 'test_incident_matrices'\n",
    "num_TFs = 200\n",
    "num_target_genes = 1000\n",
    "max_rcd_iter = 50000\n",
    "df_with_label = False\n",
    "lambda1=1e-5\n",
    "lambda2=0.1\n",
    "_NF = 100"
   ]
  },
  {
   "cell_type": "markdown",
   "metadata": {},
   "source": [
    "# Step 2: Perform SimiC and get incidence matrices"
   ]
  },
  {
   "cell_type": "code",
   "execution_count": 2,
   "metadata": {},
   "outputs": [],
   "source": [
    "ts_simic = time.time()\n",
    "simicLASSO_op(p2df, p2assignment, k_cluster, similarity, p2tf, p2saved_file, num_TFs, num_target_genes, _NF = _NF, \n",
    "        max_rcd_iter = max_rcd_iter, df_with_label = df_with_label,\n",
    "        lambda1=lambda1, lambda2 = lambda2)\n",
    "te_simic = time.time()\n",
    "t_simic = te_simic - ts_simic \n",
    "time_pass = lambda x: '{}h{}min'.format(x // 3600, x// 60 - x//3600)\n",
    "\n",
    "print('simic uses {}'.format(time_pass(t_simic)))"
   ]
  },
  {
   "cell_type": "markdown",
   "metadata": {},
   "source": [
    "# step 3: wAUC matrices"
   ]
  },
  {
   "cell_type": "code",
   "execution_count": null,
   "metadata": {},
   "outputs": [],
   "source": [
    "import pandas as pd"
   ]
  },
  {
   "cell_type": "code",
   "execution_count": null,
   "metadata": {},
   "outputs": [],
   "source": [
    "ts_auc = time.time()\n",
    "p2AUC = 'test_wAUC_matrices'\n",
    "main_fn(p2df, p2saved_file, p2AUC)\n",
    "te_auc = time.time()\n",
    "\n",
    "t_auc = te_auc - ts_auc\n",
    "t_total = te_auc - ts_simic\n",
    "\n",
    "\n",
    "print('simic uses {}'.format(time_pass(t_simic)))\n",
    "print('auc uses {}'.format(time_pass(t_auc)))\n",
    "print('total uses {}'.format(time_pass(t_total)))"
   ]
  }
 ],
 "metadata": {
  "kernelspec": {
   "display_name": "Python 3",
   "language": "python",
   "name": "python3"
  },
  "language_info": {
   "codemirror_mode": {
    "name": "ipython",
    "version": 3
   },
   "file_extension": ".py",
   "mimetype": "text/x-python",
   "name": "python",
   "nbconvert_exporter": "python",
   "pygments_lexer": "ipython3",
   "version": "3.6.5"
  }
 },
 "nbformat": 4,
 "nbformat_minor": 2
}
